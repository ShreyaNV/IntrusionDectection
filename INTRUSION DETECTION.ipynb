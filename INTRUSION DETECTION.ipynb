{
 "cells": [
  {
   "cell_type": "markdown",
   "metadata": {},
   "source": [
    "# REQUIRED LIBRARIES"
   ]
  },
  {
   "cell_type": "code",
   "execution_count": 1,
   "metadata": {},
   "outputs": [],
   "source": [
    "import cv2\n",
    "import numpy as np"
   ]
  },
  {
   "cell_type": "markdown",
   "metadata": {},
   "source": [
    "# INTRODUCTION TO CV2 VIDEO PART"
   ]
  },
  {
   "cell_type": "code",
   "execution_count": 2,
   "metadata": {},
   "outputs": [
    {
     "name": "stdout",
     "output_type": "stream",
     "text": [
      "number of frames is  263\n"
     ]
    }
   ],
   "source": [
    "i=0\n",
    "video=cv2.VideoCapture('intrusion video.mp4')\n",
    "while(1):\n",
    "    ret,frame=video.read()\n",
    "    if ret==0:\n",
    "        break\n",
    "    i=i+1\n",
    "print(\"number of frames is \",i)"
   ]
  },
  {
   "cell_type": "code",
   "execution_count": 3,
   "metadata": {},
   "outputs": [
    {
     "data": {
      "text/plain": [
       "8.801366666666667"
      ]
     },
     "execution_count": 3,
     "metadata": {},
     "output_type": "execute_result"
    }
   ],
   "source": [
    "video=cv2.VideoCapture('intrusion video.mp4')\n",
    "rate=video.get(cv2.CAP_PROP_FPS)\n",
    "count=video.get(cv2.CAP_PROP_FRAME_COUNT)\n",
    "duration=count/rate\n",
    "duration"
   ]
  },
  {
   "cell_type": "code",
   "execution_count": 4,
   "metadata": {},
   "outputs": [
    {
     "data": {
      "text/plain": [
       "(263.0, 29.881722914244378)"
      ]
     },
     "execution_count": 4,
     "metadata": {},
     "output_type": "execute_result"
    }
   ],
   "source": [
    "count,rate"
   ]
  },
  {
   "cell_type": "code",
   "execution_count": 5,
   "metadata": {},
   "outputs": [],
   "source": [
    "video=cv2.VideoCapture('intrusion video.mp4')\n",
    "width,height=video.get(cv2.CAP_PROP_FRAME_WIDTH),video.get(cv2.CAP_PROP_FRAME_HEIGHT)"
   ]
  },
  {
   "cell_type": "code",
   "execution_count": 6,
   "metadata": {},
   "outputs": [
    {
     "data": {
      "text/plain": [
       "(1280.0, 720.0)"
      ]
     },
     "execution_count": 6,
     "metadata": {},
     "output_type": "execute_result"
    }
   ],
   "source": [
    "width,height"
   ]
  },
  {
   "cell_type": "code",
   "execution_count": 7,
   "metadata": {},
   "outputs": [
    {
     "data": {
      "text/plain": [
       "(720, 1280, 3)"
      ]
     },
     "execution_count": 7,
     "metadata": {},
     "output_type": "execute_result"
    }
   ],
   "source": [
    "video=cv2.VideoCapture('intrusion video.mp4')\n",
    "ret,frame=video.read()\n",
    "frame.shape"
   ]
  },
  {
   "cell_type": "markdown",
   "metadata": {},
   "source": [
    "# BACKGROUND SUBTRACTION (SINGLE FRAME REFERENCE)"
   ]
  },
  {
   "cell_type": "code",
   "execution_count": 8,
   "metadata": {},
   "outputs": [],
   "source": [
    "def background(frame):\n",
    "    mean=frame\n",
    "    var=9*np.ones(mean.shape,dtype=int)\n",
    "    return mean,var"
   ]
  },
  {
   "cell_type": "code",
   "execution_count": 9,
   "metadata": {},
   "outputs": [],
   "source": [
    "def foregroundDetection(new_frame,mean,var,lamb):\n",
    "    d=mean-new_frame\n",
    "    y=var*lamb**2\n",
    "    I=np.square(d)-y\n",
    "    mask=np.all(I>0,axis=2)\n",
    "    rI=255*mask.astype(int)\n",
    "    rI=rI.astype(np.uint8)\n",
    "    return rI"
   ]
  },
  {
   "cell_type": "code",
   "execution_count": 10,
   "metadata": {
    "scrolled": true
   },
   "outputs": [],
   "source": [
    "def background_Subtraction(mean,var,lamb):\n",
    "    out=cv2.VideoWriter('detected Video.avi',cv2.VideoWriter_fourcc(*'XVID'),rate,(1280, 720))\n",
    "    #now detecting\n",
    "    video=cv2.VideoCapture('intrusion video.mp4')\n",
    "    new_arr=np.zeros((720,1280,3),dtype=np.uint8)\n",
    "    while(1):\n",
    "        ret,frame=video.read()\n",
    "        if ret==0:\n",
    "            break\n",
    "        rI=foregroundDetection(frame,mean,var,lamb)\n",
    "        cI=cv2.fastNlMeansDenoising(rI)\n",
    "        new_arr[:,:,0]=cI\n",
    "        new_arr[:,:,1]=cI\n",
    "        new_arr[:,:,2]=cI\n",
    "        out.write(new_arr)\n",
    "    out.release()"
   ]
  },
  {
   "cell_type": "code",
   "execution_count": 11,
   "metadata": {},
   "outputs": [],
   "source": [
    "video=cv2.VideoCapture('intrusion video.mp4')\n",
    "#first frame is considered as background image\n",
    "ret,ref_frame=video.read()\n",
    "mean,var=background(ref_frame)\n",
    "background_Subtraction(mean,var,3)"
   ]
  },
  {
   "cell_type": "markdown",
   "metadata": {},
   "source": [
    "# BACKGROUND SUBSTRACTION (UNIMODAL MODELLING)"
   ]
  },
  {
   "cell_type": "code",
   "execution_count": 12,
   "metadata": {},
   "outputs": [],
   "source": [
    "def meanVarUpdate(old_mean,old_var,cI,frame,alpha):\n",
    "    new_mean=np.zeros(frame.shape)\n",
    "    new_var=np.zeros(frame.shape)\n",
    "    d=np.square(frame-old_mean)\n",
    "   # idx=np.where(cI==0)\n",
    "    new_mean=old_mean*(1-alpha)+frame*alpha\n",
    "    new_var=(1-alpha)*(old_var+d*alpha)\n",
    "    new_var=np.clip(new_var,a_min=9,a_max=None)\n",
    "    return new_mean,new_var"
   ]
  },
  {
   "cell_type": "code",
   "execution_count": 13,
   "metadata": {},
   "outputs": [],
   "source": [
    "def background_Subtraction_uni(mean,var,lamb,alpha):\n",
    "    out=cv2.VideoWriter('detected Video Uni.avi',cv2.VideoWriter_fourcc(*'XVID'),rate,(1280, 720))\n",
    "    #now detecting\n",
    "    video=cv2.VideoCapture('intrusion video.mp4')\n",
    "    lamb=3\n",
    "    new_arr=np.zeros((720,1280,3),dtype=np.uint8)\n",
    "    ret,frame=video.read()\n",
    "    while(1):\n",
    "        ret,frame=video.read()\n",
    "        if ret==0:\n",
    "            break\n",
    "        rI=foregroundDetection(frame,mean,var,lamb)\n",
    "        cI=cv2.fastNlMeansDenoising(rI,None, 10, 10, 7)\n",
    "        cI=cI.astype(np.uint8)\n",
    "        new_arr[:,:,0]=cI\n",
    "        new_arr[:,:,1]=cI\n",
    "        new_arr[:,:,2]=cI\n",
    "        mean,var=meanVarUpdate(mean,var,cI,frame,alpha)\n",
    "        out.write(new_arr)\n",
    "    out.release()"
   ]
  },
  {
   "cell_type": "code",
   "execution_count": 14,
   "metadata": {},
   "outputs": [],
   "source": [
    "video=cv2.VideoCapture('intrusion video.mp4')\n",
    "#first frame is considered as background image\n",
    "ret,frame=video.read()\n",
    "ret,new_frame=video.read()\n",
    "mean,var=background(frame)\n",
    "background_Subtraction_uni(mean,var,0.8,0.8)"
   ]
  }
 ],
 "metadata": {
  "kernelspec": {
   "display_name": "Python 3",
   "language": "python",
   "name": "python3"
  },
  "language_info": {
   "codemirror_mode": {
    "name": "ipython",
    "version": 3
   },
   "file_extension": ".py",
   "mimetype": "text/x-python",
   "name": "python",
   "nbconvert_exporter": "python",
   "pygments_lexer": "ipython3",
   "version": "3.8.3"
  }
 },
 "nbformat": 4,
 "nbformat_minor": 4
}
